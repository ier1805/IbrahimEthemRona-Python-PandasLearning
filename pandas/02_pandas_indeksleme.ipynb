{
 "cells": [
  {
   "cell_type": "markdown",
   "id": "6a61a981-8c90-43ed-96c2-7dd775a46c9d",
   "metadata": {},
   "source": [
    "### **Pandas İndeksleme ve Dilimleme**"
   ]
  },
  {
   "cell_type": "code",
   "execution_count": 1,
   "id": "e8fffe4b-2447-4eba-841f-af2a54f849c3",
   "metadata": {},
   "outputs": [],
   "source": [
    "# Pandas kütüphanesini çağıralım ve içe aktaralım.\n",
    "# Numpy kütüphanesini çağıralım ve içe aktaralım.\n",
    "import pandas as pd\n",
    "import numpy as np"
   ]
  },
  {
   "cell_type": "code",
   "execution_count": 5,
   "id": "fb729b86-971b-4a20-9f5f-3aebd5ea6d82",
   "metadata": {},
   "outputs": [
    {
     "data": {
      "text/html": [
       "<div>\n",
       "<style scoped>\n",
       "    .dataframe tbody tr th:only-of-type {\n",
       "        vertical-align: middle;\n",
       "    }\n",
       "\n",
       "    .dataframe tbody tr th {\n",
       "        vertical-align: top;\n",
       "    }\n",
       "\n",
       "    .dataframe thead th {\n",
       "        text-align: right;\n",
       "    }\n",
       "</style>\n",
       "<table border=\"1\" class=\"dataframe\">\n",
       "  <thead>\n",
       "    <tr style=\"text-align: right;\">\n",
       "      <th></th>\n",
       "      <th>G</th>\n",
       "      <th>M</th>\n",
       "      <th>P</th>\n",
       "    </tr>\n",
       "  </thead>\n",
       "  <tbody>\n",
       "    <tr>\n",
       "      <th>Beşiktaş</th>\n",
       "      <td>4</td>\n",
       "      <td>5</td>\n",
       "      <td>1</td>\n",
       "    </tr>\n",
       "    <tr>\n",
       "      <th>Fenerbahçe</th>\n",
       "      <td>1</td>\n",
       "      <td>7</td>\n",
       "      <td>1</td>\n",
       "    </tr>\n",
       "    <tr>\n",
       "      <th>Galatasaray</th>\n",
       "      <td>2</td>\n",
       "      <td>5</td>\n",
       "      <td>3</td>\n",
       "    </tr>\n",
       "    <tr>\n",
       "      <th>Trabzonspor</th>\n",
       "      <td>6</td>\n",
       "      <td>9</td>\n",
       "      <td>8</td>\n",
       "    </tr>\n",
       "  </tbody>\n",
       "</table>\n",
       "</div>"
      ],
      "text/plain": [
       "             G  M  P\n",
       "Beşiktaş     4  5  1\n",
       "Fenerbahçe   1  7  1\n",
       "Galatasaray  2  5  3\n",
       "Trabzonspor  6  9  8"
      ]
     },
     "execution_count": 5,
     "metadata": {},
     "output_type": "execute_result"
    }
   ],
   "source": [
    "data = np.random.randint(1,10,12).reshape(4,3)\n",
    "newData = pd.DataFrame(data= data, index= [\"Beşiktaş\", \"Fenerbahçe\", \"Galatasaray\", \"Trabzonspor\"], columns= [\"G\", \"M\", \"P\"])\n",
    "newData"
   ]
  },
  {
   "cell_type": "code",
   "execution_count": 6,
   "id": "6341bc6a-89ae-401f-8f82-9deae63d31d2",
   "metadata": {},
   "outputs": [
    {
     "data": {
      "text/plain": [
       "Beşiktaş       4\n",
       "Fenerbahçe     1\n",
       "Galatasaray    2\n",
       "Trabzonspor    6\n",
       "Name: G, dtype: int32"
      ]
     },
     "execution_count": 6,
     "metadata": {},
     "output_type": "execute_result"
    }
   ],
   "source": [
    "# G = Galibiyet sütununu alalım.\n",
    "newData[\"G\"]"
   ]
  },
  {
   "cell_type": "code",
   "execution_count": 7,
   "id": "703aa8c7-7400-46b7-bfab-31100d6977de",
   "metadata": {},
   "outputs": [
    {
     "data": {
      "text/html": [
       "<div>\n",
       "<style scoped>\n",
       "    .dataframe tbody tr th:only-of-type {\n",
       "        vertical-align: middle;\n",
       "    }\n",
       "\n",
       "    .dataframe tbody tr th {\n",
       "        vertical-align: top;\n",
       "    }\n",
       "\n",
       "    .dataframe thead th {\n",
       "        text-align: right;\n",
       "    }\n",
       "</style>\n",
       "<table border=\"1\" class=\"dataframe\">\n",
       "  <thead>\n",
       "    <tr style=\"text-align: right;\">\n",
       "      <th></th>\n",
       "      <th>G</th>\n",
       "      <th>M</th>\n",
       "      <th>P</th>\n",
       "      <th>B</th>\n",
       "    </tr>\n",
       "  </thead>\n",
       "  <tbody>\n",
       "    <tr>\n",
       "      <th>Beşiktaş</th>\n",
       "      <td>4</td>\n",
       "      <td>5</td>\n",
       "      <td>1</td>\n",
       "      <td>1</td>\n",
       "    </tr>\n",
       "    <tr>\n",
       "      <th>Fenerbahçe</th>\n",
       "      <td>1</td>\n",
       "      <td>7</td>\n",
       "      <td>1</td>\n",
       "      <td>3</td>\n",
       "    </tr>\n",
       "    <tr>\n",
       "      <th>Galatasaray</th>\n",
       "      <td>2</td>\n",
       "      <td>5</td>\n",
       "      <td>3</td>\n",
       "      <td>2</td>\n",
       "    </tr>\n",
       "    <tr>\n",
       "      <th>Trabzonspor</th>\n",
       "      <td>6</td>\n",
       "      <td>9</td>\n",
       "      <td>8</td>\n",
       "      <td>6</td>\n",
       "    </tr>\n",
       "  </tbody>\n",
       "</table>\n",
       "</div>"
      ],
      "text/plain": [
       "             G  M  P  B\n",
       "Beşiktaş     4  5  1  1\n",
       "Fenerbahçe   1  7  1  3\n",
       "Galatasaray  2  5  3  2\n",
       "Trabzonspor  6  9  8  6"
      ]
     },
     "execution_count": 7,
     "metadata": {},
     "output_type": "execute_result"
    }
   ],
   "source": [
    "# Veriye yeni bir sütun ekleyelim.\n",
    "newData[\"B\"] = [1,3,2,6]\n",
    "newData"
   ]
  },
  {
   "cell_type": "markdown",
   "id": "4574a582-9786-4414-9b3d-b9444f101165",
   "metadata": {},
   "source": [
    "* Pandasta indeksleme yaparken loc ve iloc yapıları kullanılır.\n",
    "* loc = location(konum)\n",
    "* iloc = index location(indeks konumu)"
   ]
  },
  {
   "cell_type": "code",
   "execution_count": 8,
   "id": "dd5f6398-bb31-46b7-a67e-53934dcec5eb",
   "metadata": {},
   "outputs": [
    {
     "data": {
      "text/plain": [
       "Beşiktaş       1\n",
       "Fenerbahçe     3\n",
       "Galatasaray    2\n",
       "Trabzonspor    6\n",
       "Name: B, dtype: int64"
      ]
     },
     "execution_count": 8,
     "metadata": {},
     "output_type": "execute_result"
    }
   ],
   "source": [
    "# Verinin beraberlik sütununu başka bir yöntem ile ele alalım.\n",
    "newData.loc[:,\"B\"]"
   ]
  },
  {
   "cell_type": "code",
   "execution_count": 9,
   "id": "1a32f997-2df5-45ea-81f3-9785b64d289f",
   "metadata": {},
   "outputs": [
    {
     "data": {
      "text/plain": [
       "Beşiktaş       4\n",
       "Fenerbahçe     1\n",
       "Galatasaray    2\n",
       "Name: G, dtype: int32"
      ]
     },
     "execution_count": 9,
     "metadata": {},
     "output_type": "execute_result"
    }
   ],
   "source": [
    "# G = Galibiyet sütunun indeksini 3'e kadar olanları alalım (3 dahil).\n",
    "newData.loc[:\"Galatasaray\" ,\"G\"]"
   ]
  },
  {
   "cell_type": "code",
   "execution_count": 11,
   "id": "6bcfbf7f-08ac-4511-9d9a-6c7b6c0159ca",
   "metadata": {},
   "outputs": [
    {
     "data": {
      "text/html": [
       "<div>\n",
       "<style scoped>\n",
       "    .dataframe tbody tr th:only-of-type {\n",
       "        vertical-align: middle;\n",
       "    }\n",
       "\n",
       "    .dataframe tbody tr th {\n",
       "        vertical-align: top;\n",
       "    }\n",
       "\n",
       "    .dataframe thead th {\n",
       "        text-align: right;\n",
       "    }\n",
       "</style>\n",
       "<table border=\"1\" class=\"dataframe\">\n",
       "  <thead>\n",
       "    <tr style=\"text-align: right;\">\n",
       "      <th></th>\n",
       "      <th>G</th>\n",
       "      <th>M</th>\n",
       "      <th>P</th>\n",
       "    </tr>\n",
       "  </thead>\n",
       "  <tbody>\n",
       "    <tr>\n",
       "      <th>Beşiktaş</th>\n",
       "      <td>4</td>\n",
       "      <td>5</td>\n",
       "      <td>1</td>\n",
       "    </tr>\n",
       "    <tr>\n",
       "      <th>Fenerbahçe</th>\n",
       "      <td>1</td>\n",
       "      <td>7</td>\n",
       "      <td>1</td>\n",
       "    </tr>\n",
       "    <tr>\n",
       "      <th>Galatasaray</th>\n",
       "      <td>2</td>\n",
       "      <td>5</td>\n",
       "      <td>3</td>\n",
       "    </tr>\n",
       "  </tbody>\n",
       "</table>\n",
       "</div>"
      ],
      "text/plain": [
       "             G  M  P\n",
       "Beşiktaş     4  5  1\n",
       "Fenerbahçe   1  7  1\n",
       "Galatasaray  2  5  3"
      ]
     },
     "execution_count": 11,
     "metadata": {},
     "output_type": "execute_result"
    }
   ],
   "source": [
    "# İndeksi 3'e kadar olan satırları ve G'den P'ye kadar olan sütunları al.\n",
    "newData.loc[:\"Galatasaray\",\"G\":\"P\"]"
   ]
  },
  {
   "cell_type": "code",
   "execution_count": 12,
   "id": "036ebcf9-9970-423f-9bcd-947bbfd2f9df",
   "metadata": {},
   "outputs": [
    {
     "data": {
      "text/html": [
       "<div>\n",
       "<style scoped>\n",
       "    .dataframe tbody tr th:only-of-type {\n",
       "        vertical-align: middle;\n",
       "    }\n",
       "\n",
       "    .dataframe tbody tr th {\n",
       "        vertical-align: top;\n",
       "    }\n",
       "\n",
       "    .dataframe thead th {\n",
       "        text-align: right;\n",
       "    }\n",
       "</style>\n",
       "<table border=\"1\" class=\"dataframe\">\n",
       "  <thead>\n",
       "    <tr style=\"text-align: right;\">\n",
       "      <th></th>\n",
       "      <th>G</th>\n",
       "      <th>B</th>\n",
       "    </tr>\n",
       "  </thead>\n",
       "  <tbody>\n",
       "    <tr>\n",
       "      <th>Beşiktaş</th>\n",
       "      <td>4</td>\n",
       "      <td>1</td>\n",
       "    </tr>\n",
       "    <tr>\n",
       "      <th>Fenerbahçe</th>\n",
       "      <td>1</td>\n",
       "      <td>3</td>\n",
       "    </tr>\n",
       "    <tr>\n",
       "      <th>Galatasaray</th>\n",
       "      <td>2</td>\n",
       "      <td>2</td>\n",
       "    </tr>\n",
       "  </tbody>\n",
       "</table>\n",
       "</div>"
      ],
      "text/plain": [
       "             G  B\n",
       "Beşiktaş     4  1\n",
       "Fenerbahçe   1  3\n",
       "Galatasaray  2  2"
      ]
     },
     "execution_count": 12,
     "metadata": {},
     "output_type": "execute_result"
    }
   ],
   "source": [
    "# İndeksi 3'e kadar olan satırlar ile G ve B sütunlarını al.\n",
    "newData.loc[:\"Galatasaray\" ,[\"G\",\"B\"]]"
   ]
  },
  {
   "cell_type": "code",
   "execution_count": 13,
   "id": "361f1913-b41d-4d24-b4a4-a023c7f33b4b",
   "metadata": {},
   "outputs": [
    {
     "data": {
      "text/html": [
       "<div>\n",
       "<style scoped>\n",
       "    .dataframe tbody tr th:only-of-type {\n",
       "        vertical-align: middle;\n",
       "    }\n",
       "\n",
       "    .dataframe tbody tr th {\n",
       "        vertical-align: top;\n",
       "    }\n",
       "\n",
       "    .dataframe thead th {\n",
       "        text-align: right;\n",
       "    }\n",
       "</style>\n",
       "<table border=\"1\" class=\"dataframe\">\n",
       "  <thead>\n",
       "    <tr style=\"text-align: right;\">\n",
       "      <th></th>\n",
       "      <th>G</th>\n",
       "      <th>M</th>\n",
       "      <th>P</th>\n",
       "      <th>B</th>\n",
       "    </tr>\n",
       "  </thead>\n",
       "  <tbody>\n",
       "    <tr>\n",
       "      <th>Trabzonspor</th>\n",
       "      <td>6</td>\n",
       "      <td>9</td>\n",
       "      <td>8</td>\n",
       "      <td>6</td>\n",
       "    </tr>\n",
       "    <tr>\n",
       "      <th>Galatasaray</th>\n",
       "      <td>2</td>\n",
       "      <td>5</td>\n",
       "      <td>3</td>\n",
       "      <td>2</td>\n",
       "    </tr>\n",
       "    <tr>\n",
       "      <th>Fenerbahçe</th>\n",
       "      <td>1</td>\n",
       "      <td>7</td>\n",
       "      <td>1</td>\n",
       "      <td>3</td>\n",
       "    </tr>\n",
       "    <tr>\n",
       "      <th>Beşiktaş</th>\n",
       "      <td>4</td>\n",
       "      <td>5</td>\n",
       "      <td>1</td>\n",
       "      <td>1</td>\n",
       "    </tr>\n",
       "  </tbody>\n",
       "</table>\n",
       "</div>"
      ],
      "text/plain": [
       "             G  M  P  B\n",
       "Trabzonspor  6  9  8  6\n",
       "Galatasaray  2  5  3  2\n",
       "Fenerbahçe   1  7  1  3\n",
       "Beşiktaş     4  5  1  1"
      ]
     },
     "execution_count": 13,
     "metadata": {},
     "output_type": "execute_result"
    }
   ],
   "source": [
    "# Satırları tersten yazdır.\n",
    "newData.loc[::-1,:]"
   ]
  },
  {
   "cell_type": "code",
   "execution_count": 15,
   "id": "69fda04a-e07a-4314-be53-23253e671de5",
   "metadata": {},
   "outputs": [
    {
     "data": {
      "text/plain": [
       "Beşiktaş       5\n",
       "Fenerbahçe     7\n",
       "Galatasaray    5\n",
       "Trabzonspor    9\n",
       "Name: M, dtype: int32"
      ]
     },
     "execution_count": 15,
     "metadata": {},
     "output_type": "execute_result"
    }
   ],
   "source": [
    "# M sütununu iloc ile yazır.\n",
    "newData.iloc[:,1]"
   ]
  },
  {
   "cell_type": "code",
   "execution_count": 17,
   "id": "84774049-b156-44af-9d04-44d825dc4f19",
   "metadata": {},
   "outputs": [
    {
     "data": {
      "text/html": [
       "<div>\n",
       "<style scoped>\n",
       "    .dataframe tbody tr th:only-of-type {\n",
       "        vertical-align: middle;\n",
       "    }\n",
       "\n",
       "    .dataframe tbody tr th {\n",
       "        vertical-align: top;\n",
       "    }\n",
       "\n",
       "    .dataframe thead th {\n",
       "        text-align: right;\n",
       "    }\n",
       "</style>\n",
       "<table border=\"1\" class=\"dataframe\">\n",
       "  <thead>\n",
       "    <tr style=\"text-align: right;\">\n",
       "      <th></th>\n",
       "      <th>G</th>\n",
       "      <th>M</th>\n",
       "    </tr>\n",
       "  </thead>\n",
       "  <tbody>\n",
       "    <tr>\n",
       "      <th>Beşiktaş</th>\n",
       "      <td>4</td>\n",
       "      <td>5</td>\n",
       "    </tr>\n",
       "    <tr>\n",
       "      <th>Fenerbahçe</th>\n",
       "      <td>1</td>\n",
       "      <td>7</td>\n",
       "    </tr>\n",
       "    <tr>\n",
       "      <th>Galatasaray</th>\n",
       "      <td>2</td>\n",
       "      <td>5</td>\n",
       "    </tr>\n",
       "  </tbody>\n",
       "</table>\n",
       "</div>"
      ],
      "text/plain": [
       "             G  M\n",
       "Beşiktaş     4  5\n",
       "Fenerbahçe   1  7\n",
       "Galatasaray  2  5"
      ]
     },
     "execution_count": 17,
     "metadata": {},
     "output_type": "execute_result"
    }
   ],
   "source": [
    "# İlk 3 satırı ve G ve M sütunlarını al iloc ile.\n",
    "newData.iloc[:3,[0,1]]"
   ]
  },
  {
   "cell_type": "code",
   "execution_count": null,
   "id": "aa30b848-5baf-481c-863d-208f7633dced",
   "metadata": {},
   "outputs": [],
   "source": []
  }
 ],
 "metadata": {
  "kernelspec": {
   "display_name": "Python 3 (ipykernel)",
   "language": "python",
   "name": "python3"
  },
  "language_info": {
   "codemirror_mode": {
    "name": "ipython",
    "version": 3
   },
   "file_extension": ".py",
   "mimetype": "text/x-python",
   "name": "python",
   "nbconvert_exporter": "python",
   "pygments_lexer": "ipython3",
   "version": "3.9.6"
  }
 },
 "nbformat": 4,
 "nbformat_minor": 5
}
