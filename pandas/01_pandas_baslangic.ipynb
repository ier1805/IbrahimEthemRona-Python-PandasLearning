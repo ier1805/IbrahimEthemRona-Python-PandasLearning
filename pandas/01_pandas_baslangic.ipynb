{
 "cells": [
  {
   "cell_type": "markdown",
   "id": "eaa26da6-eb27-4183-9f29-0056123b6d67",
   "metadata": {},
   "source": [
    "### **Pandas Nedir?**\n"
   ]
  },
  {
   "cell_type": "markdown",
   "id": "1405748e-3f8b-4361-a7f6-9de3e7fef404",
   "metadata": {},
   "source": [
    "**Pandas,** “ilişkisel” ve “etiketli” verilerle çalışmayı kolay ve sezgisel hale getirmek için tasarlanmış hızlı, esnek ve etkileyici veri yapıları\n",
    "sağlayan bir Python paketidir."
   ]
  },
  {
   "cell_type": "markdown",
   "id": "c0230983-ac54-484c-8550-f3322a1f435d",
   "metadata": {},
   "source": [
    "#### **Pandas, bir çok farklı veri türü için uygundur;**"
   ]
  },
  {
   "cell_type": "markdown",
   "id": "7c3c394d-6c0d-4a77-aeb1-2a2596cbb7e0",
   "metadata": {},
   "source": [
    "* SQL tablosunda veya Excel tablosunda olduğu gibi, heterojen şekilde yazılan sütunlara sahip tablo verileri\n",
    "* Sıralı veya sırasız (sabit frekansta olmayabilir.) zaman serisi verileri\n",
    "* Satır ve sütunlarındaki ardışık matris verileri (homojen ya da heterojen)\n",
    "* Herhangi bir gözlemsel/ istatistiksel veri kümesi. Pandas’ın veri yapısına yerleştirilmek için verilerin etiketlenmesi gerekmez."
   ]
  },
  {
   "cell_type": "markdown",
   "id": "fd606f0c-5ad6-4f1f-a795-7b3cac3f621b",
   "metadata": {},
   "source": [
    "#### **Pandas’ın iyi yaptığı şeylerden sadece birkaçı;**"
   ]
  },
  {
   "cell_type": "markdown",
   "id": "f7b7068a-273f-4e89-95ce-eb521c5fe68c",
   "metadata": {},
   "source": [
    "* Kayıp verilerin (NaN olarak temsil edilir) kolayca işlenmesi\n",
    "* Boyut değiştirilebilirlik: DataFrame ve daha yüksek boyutlu nesnelerden sütunlar eklenebilir veya silinebilir.\n",
    "* Otomatik ve belirgin veri hizalama: Nesneler bir etiket kümesine acıkça hizalanabilir veya kullanıcı etiketleri görmezden gelebilir ve Seri,DataFrame vb.nin hesaplamalarda sizin için verileri otomatik olarak hizalamasına izin verir.\n",
    "* Verileri toplamak ve dönüştürmek için veri kümelerinde böl-uygula-birleştir işlemlerini gerçekleştirmek için güçlü ve esnek “group by” işlevine sahiptir.\n",
    "* Diğer Python veya NumPy veri yapılarındaki düzensiz, farklı dizinlenmiş verileri DataFrame nesnelerine dönüştürmeyi kolaylaştırır.\n",
    "* Veri kümelerinin kolayca yeniden şekillendirilmesi\n",
    "* Eksenlerin hiyerarşik etiketlenmesi (işaret başına birden çok etiket olması mümkündür.)\n",
    "* Zaman serisine özgü işlevsellik: tarih aralığı oluşturma ve frekans dönüştürme, hareketli pencere istatistikleri, tarih kaydırma ve geciktirme"
   ]
  },
  {
   "cell_type": "code",
   "execution_count": 2,
   "id": "7018ab2c-3b0b-41a5-98f2-2f428a3e9d6a",
   "metadata": {},
   "outputs": [],
   "source": [
    "# Pandas kütüphanesini çağıralım ve içe aktaralım.\n",
    "# Numpy kütüphanesini çağıralım ve içe aktaralım.\n",
    "import pandas as pd\n",
    "import numpy as np"
   ]
  },
  {
   "cell_type": "markdown",
   "id": "cc98703c-e2af-4d9a-bea2-d08169d2f3c5",
   "metadata": {},
   "source": [
    "#### **Pandas Seriler**"
   ]
  },
  {
   "cell_type": "markdown",
   "id": "2c862436-fb7b-4048-9a3c-354504c41930",
   "metadata": {},
   "source": [
    "**Seri,** etiketli verilerden oluşan tek boyutlu bir veri yapısıdır. Etiket değerlerine indeks denir. Verinin kendisi sayılar, dizeler ya da\n",
    "başka Python objelerinden oluşabilir. Serileri oluşturmak için listeler, sıralı diziler ya da sözlükler kullanılabilir."
   ]
  },
  {
   "cell_type": "code",
   "execution_count": 4,
   "id": "321fb081-a957-44dd-8263-0dc2c7c97b39",
   "metadata": {},
   "outputs": [
    {
     "name": "stdout",
     "output_type": "stream",
     "text": [
      "0    Mercedes\n",
      "1         Bmw\n",
      "2     Renault\n",
      "3        Opel\n",
      "4        Audi\n",
      "5       Mazda\n",
      "dtype: object\n",
      " \n",
      "<class 'list'>\n",
      "<class 'pandas.core.series.Series'>\n"
     ]
    }
   ],
   "source": [
    "# Liste kullanarak araba markalarının bulunduğu string(metin) tipli bir seri oluşturalım.\n",
    "arabaMarkalari = [\"Mercedes\", \"Bmw\", \"Renault\", \"Opel\", \"Audi\", \"Mazda\"]\n",
    "strSeri = pd.Series(arabaMarkalari)\n",
    "print(strSeri)\n",
    "print(\" \")\n",
    "print(type(arabaMarkalari))\n",
    "print(type(strSeri))\n",
    "# Oluşturduğumuz verinin indeksleri (0, 1, 2, 3, 4,5)\n",
    "# Veri string(metin) tiplidir.\n",
    "# dtype: datatype verinin türünü verir. Verimizin türü string(metin)."
   ]
  },
  {
   "cell_type": "code",
   "execution_count": 5,
   "id": "39ddb2cf-4b6b-42ab-adfa-6bf4b7f6f3f7",
   "metadata": {},
   "outputs": [
    {
     "name": "stdout",
     "output_type": "stream",
     "text": [
      "0    10\n",
      "1    20\n",
      "2    30\n",
      "3    40\n",
      "4    50\n",
      "dtype: Int64\n",
      " \n",
      "<class 'pandas.core.arrays.integer.IntegerArray'>\n",
      "<class 'pandas.core.series.Series'>\n"
     ]
    }
   ],
   "source": [
    "# Array(dizi) kullanarak tek boyutlu 1*5'lik int(tam sayı) tipli bir seri oluşturalım.\n",
    "tamSayilar = pd.array([10,20,30,40,50])\n",
    "intSeri = pd.Series(tamSayilar)\n",
    "print(intSeri)\n",
    "print(\" \")\n",
    "print(type(tamSayilar))\n",
    "print(type(intSeri))\n",
    "# Oluşturduğumuz verinin indeksleri (0, 1, 2, 3, 4)\n",
    "# Veri int(tam sayı) tipli sayılardan oluşmaktadır.\n",
    "# dtype = datatype verinin türünü verir. Verimizin türü 64 bitlik bir int(tam sayı)."
   ]
  },
  {
   "cell_type": "code",
   "execution_count": 8,
   "id": "32f9714c-c0ff-4eb9-a964-65ab74b48225",
   "metadata": {},
   "outputs": [
    {
     "name": "stdout",
     "output_type": "stream",
     "text": [
      "İstanbul       17.000000\n",
      "Mersin          1.727255\n",
      "Muğla           1.000773\n",
      "Erzurum       758.279000\n",
      "Diyarbakur      1.783431\n",
      "dtype: float64\n",
      " \n",
      "<class 'dict'>\n",
      "<class 'pandas.core.series.Series'>\n"
     ]
    }
   ],
   "source": [
    "# Sözlük kullanarak şehirler ve bunlara ait nüfus değerleriye bir seri oluşturalım.\n",
    "sehirNufus = {\"İstanbul\" : 17.000000 , \"Mersin\" : 1.727255 , \"Muğla\" : 1.000773 , \"Erzurum\" : 758.279 , \"Diyarbakur\" : 1.783431}\n",
    "fltSeriler = pd.Series(sehirNufus)\n",
    "print(fltSeriler)\n",
    "print(\" \")\n",
    "print(type(sehirNufus))\n",
    "print(type(fltSeriler))\n",
    "# Oluşturduğumuz bu serilerin etiket değerleri yani indeksleri (İstanbul, Mersin, Muğla, Erzurum, Diyarbakır)\n",
    "# Veri float(ondalık) türlü sayılardan oluşmaktadır.\n",
    "# dtype = datatype verinin türünü verir. Verimizin türü 64 bitlik bir float(ondalık)."
   ]
  },
  {
   "cell_type": "code",
   "execution_count": 9,
   "id": "bc3663b9-6bc7-4d1f-8635-3dd943e1f1c4",
   "metadata": {},
   "outputs": [
    {
     "data": {
      "text/plain": [
       "Meslekler\n",
       "Öğretmen       5.0\n",
       "Doktor         7.0\n",
       "Akademisyen    6.5\n",
       "Polis          5.5\n",
       "dtype: float64"
      ]
     },
     "execution_count": 9,
     "metadata": {},
     "output_type": "execute_result"
    }
   ],
   "source": [
    "# Meslekler ve maaşlardan oluşan iki ayrı liste oluşturalım.\n",
    "meslek = [\"Öğretmen\", \"Doktor\", \"Akademisyen\", \"Polis\"]\n",
    "maas = [5.000, 7.000, 6.500, 5.500]\n",
    "mSeri = pd.Series(maas,meslek) # pd.Series(data, index)\n",
    "mSeri.index.name = \"Meslekler\"\n",
    "mSeri"
   ]
  },
  {
   "cell_type": "code",
   "execution_count": 10,
   "id": "b6b2edc7-4b64-4aff-88e4-631668bc3368",
   "metadata": {},
   "outputs": [
    {
     "data": {
      "text/plain": [
       "Meslekler\n",
       "Öğretmen       5.0\n",
       "Doktor         7.0\n",
       "Akademisyen    6.5\n",
       "Polis          5.5\n",
       "dtype: float64"
      ]
     },
     "execution_count": 10,
     "metadata": {},
     "output_type": "execute_result"
    }
   ],
   "source": [
    "# Yukarıdaki karışıklığı önlemek için yani önce hangisini yazacağım ilk maaş mı? yoksa meslek mi?\n",
    "yeniMSeri = pd.Series(data = maas, index = meslek)\n",
    "yeniMSeri.index.name = \"Meslekler\"\n",
    "yeniMSeri"
   ]
  },
  {
   "cell_type": "markdown",
   "id": "0c146d8b-0444-4510-8a0f-644b99214ad0",
   "metadata": {},
   "source": [
    "#### **DataFrame**\n"
   ]
  },
  {
   "cell_type": "markdown",
   "id": "6474d1f6-b9af-4f6a-942a-3bf7db799b8a",
   "metadata": {},
   "source": [
    "* Dataframe’ler pandasın çok boyutlu veri yapılarıdır.\n",
    "* DataFrame farklı tipteki satıra ve sütunlara sahip bir SQL tablosu veya Excel tablosu olarak düşünebiliriz."
   ]
  },
  {
   "cell_type": "code",
   "execution_count": 15,
   "id": "15521be6-1530-4782-a7a2-6bea2d1494a7",
   "metadata": {},
   "outputs": [],
   "source": [
    "# Veri tablosu oluşturmak istiyorsak ilk önce sözlük oluşturmalıyız.\n",
    "myDic = {\"Araba Markası\" : [\"Mercedes\",\"Bmw\",\"Opel\",\"Renault\",\"Audi\",\"Mazda\"],\n",
    "\"Araba Rengi\" : [\"Kırmızı\",\"Mavi\",\"Sarı\",\"Beyaz\",\"Krem\",\"Siyah\"],\n",
    "\"Fiyatı\" : [200.000,250.000,240.000,100.000,250.000,180.000]\n",
    "        }"
   ]
  },
  {
   "cell_type": "code",
   "execution_count": 16,
   "id": "c84d6ccc-b86c-4cca-8aca-08e7a37da53b",
   "metadata": {},
   "outputs": [
    {
     "data": {
      "text/html": [
       "<div>\n",
       "<style scoped>\n",
       "    .dataframe tbody tr th:only-of-type {\n",
       "        vertical-align: middle;\n",
       "    }\n",
       "\n",
       "    .dataframe tbody tr th {\n",
       "        vertical-align: top;\n",
       "    }\n",
       "\n",
       "    .dataframe thead th {\n",
       "        text-align: right;\n",
       "    }\n",
       "</style>\n",
       "<table border=\"1\" class=\"dataframe\">\n",
       "  <thead>\n",
       "    <tr style=\"text-align: right;\">\n",
       "      <th></th>\n",
       "      <th>Araba Markası</th>\n",
       "      <th>Araba Rengi</th>\n",
       "      <th>Fiyatı</th>\n",
       "    </tr>\n",
       "  </thead>\n",
       "  <tbody>\n",
       "    <tr>\n",
       "      <th>0</th>\n",
       "      <td>Mercedes</td>\n",
       "      <td>Kırmızı</td>\n",
       "      <td>200.0</td>\n",
       "    </tr>\n",
       "    <tr>\n",
       "      <th>1</th>\n",
       "      <td>Bmw</td>\n",
       "      <td>Mavi</td>\n",
       "      <td>250.0</td>\n",
       "    </tr>\n",
       "    <tr>\n",
       "      <th>2</th>\n",
       "      <td>Opel</td>\n",
       "      <td>Sarı</td>\n",
       "      <td>240.0</td>\n",
       "    </tr>\n",
       "    <tr>\n",
       "      <th>3</th>\n",
       "      <td>Renault</td>\n",
       "      <td>Beyaz</td>\n",
       "      <td>100.0</td>\n",
       "    </tr>\n",
       "    <tr>\n",
       "      <th>4</th>\n",
       "      <td>Audi</td>\n",
       "      <td>Krem</td>\n",
       "      <td>250.0</td>\n",
       "    </tr>\n",
       "    <tr>\n",
       "      <th>5</th>\n",
       "      <td>Mazda</td>\n",
       "      <td>Siyah</td>\n",
       "      <td>180.0</td>\n",
       "    </tr>\n",
       "  </tbody>\n",
       "</table>\n",
       "</div>"
      ],
      "text/plain": [
       "  Araba Markası Araba Rengi  Fiyatı\n",
       "0      Mercedes     Kırmızı   200.0\n",
       "1           Bmw        Mavi   250.0\n",
       "2          Opel        Sarı   240.0\n",
       "3       Renault       Beyaz   100.0\n",
       "4          Audi        Krem   250.0\n",
       "5         Mazda       Siyah   180.0"
      ]
     },
     "execution_count": 16,
     "metadata": {},
     "output_type": "execute_result"
    }
   ],
   "source": [
    "# DataFrame farklı tipteki satıra ve sütunlara sahip bir SQL tablosu olarak düşünebiliriz.\n",
    "data = pd.DataFrame(myDic)\n",
    "data"
   ]
  },
  {
   "cell_type": "code",
   "execution_count": 17,
   "id": "46625d42-757c-45ca-a03f-95d79641e0cd",
   "metadata": {},
   "outputs": [
    {
     "data": {
      "text/html": [
       "<div>\n",
       "<style scoped>\n",
       "    .dataframe tbody tr th:only-of-type {\n",
       "        vertical-align: middle;\n",
       "    }\n",
       "\n",
       "    .dataframe tbody tr th {\n",
       "        vertical-align: top;\n",
       "    }\n",
       "\n",
       "    .dataframe thead th {\n",
       "        text-align: right;\n",
       "    }\n",
       "</style>\n",
       "<table border=\"1\" class=\"dataframe\">\n",
       "  <thead>\n",
       "    <tr style=\"text-align: right;\">\n",
       "      <th></th>\n",
       "      <th>G</th>\n",
       "      <th>M</th>\n",
       "      <th>P</th>\n",
       "    </tr>\n",
       "  </thead>\n",
       "  <tbody>\n",
       "    <tr>\n",
       "      <th>Beşiktaş</th>\n",
       "      <td>9</td>\n",
       "      <td>4</td>\n",
       "      <td>10</td>\n",
       "    </tr>\n",
       "    <tr>\n",
       "      <th>Fenerbahçe</th>\n",
       "      <td>6</td>\n",
       "      <td>4</td>\n",
       "      <td>9</td>\n",
       "    </tr>\n",
       "    <tr>\n",
       "      <th>Galatasaray</th>\n",
       "      <td>4</td>\n",
       "      <td>4</td>\n",
       "      <td>6</td>\n",
       "    </tr>\n",
       "    <tr>\n",
       "      <th>Trabzonspor</th>\n",
       "      <td>4</td>\n",
       "      <td>5</td>\n",
       "      <td>7</td>\n",
       "    </tr>\n",
       "  </tbody>\n",
       "</table>\n",
       "</div>"
      ],
      "text/plain": [
       "             G  M   P\n",
       "Beşiktaş     9  4  10\n",
       "Fenerbahçe   6  4   9\n",
       "Galatasaray  4  4   6\n",
       "Trabzonspor  4  5   7"
      ]
     },
     "execution_count": 17,
     "metadata": {},
     "output_type": "execute_result"
    }
   ],
   "source": [
    "# Random değerlerden oluşan 4*3'lük 4 satır, 3 sütunluk bir array(dizi) oluşturalım. Oluşturduğumuz verilerin i\n",
    "newData = np.random.randint(1,11,12).reshape(4,3)\n",
    "newData2= pd.DataFrame(data= newData, index= [\"Beşiktaş\", \"Fenerbahçe\", \"Galatasaray\", \"Trabzonspor\"], columns= [\"G\", \"M\", \"P\"])\n",
    "newData2"
   ]
  },
  {
   "cell_type": "code",
   "execution_count": 18,
   "id": "e4c63022-48ee-42b2-b403-a70d76d66223",
   "metadata": {},
   "outputs": [
    {
     "data": {
      "text/html": [
       "<div>\n",
       "<style scoped>\n",
       "    .dataframe tbody tr th:only-of-type {\n",
       "        vertical-align: middle;\n",
       "    }\n",
       "\n",
       "    .dataframe tbody tr th {\n",
       "        vertical-align: top;\n",
       "    }\n",
       "\n",
       "    .dataframe thead th {\n",
       "        text-align: right;\n",
       "    }\n",
       "</style>\n",
       "<table border=\"1\" class=\"dataframe\">\n",
       "  <thead>\n",
       "    <tr style=\"text-align: right;\">\n",
       "      <th></th>\n",
       "      <th>Öğenciler</th>\n",
       "      <th>Not ortalamaları</th>\n",
       "    </tr>\n",
       "  </thead>\n",
       "  <tbody>\n",
       "    <tr>\n",
       "      <th>0</th>\n",
       "      <td>Selim</td>\n",
       "      <td>80.3</td>\n",
       "    </tr>\n",
       "    <tr>\n",
       "      <th>1</th>\n",
       "      <td>Mustafa</td>\n",
       "      <td>90.0</td>\n",
       "    </tr>\n",
       "    <tr>\n",
       "      <th>2</th>\n",
       "      <td>Deniz</td>\n",
       "      <td>75.5</td>\n",
       "    </tr>\n",
       "    <tr>\n",
       "      <th>3</th>\n",
       "      <td>Cemre</td>\n",
       "      <td>40.0</td>\n",
       "    </tr>\n",
       "    <tr>\n",
       "      <th>4</th>\n",
       "      <td>İrem</td>\n",
       "      <td>100.0</td>\n",
       "    </tr>\n",
       "    <tr>\n",
       "      <th>5</th>\n",
       "      <td>Ahmet</td>\n",
       "      <td>87.0</td>\n",
       "    </tr>\n",
       "  </tbody>\n",
       "</table>\n",
       "</div>"
      ],
      "text/plain": [
       "  Öğenciler  Not ortalamaları\n",
       "0     Selim              80.3\n",
       "1   Mustafa              90.0\n",
       "2     Deniz              75.5\n",
       "3     Cemre              40.0\n",
       "4      İrem             100.0\n",
       "5     Ahmet              87.0"
      ]
     },
     "execution_count": 18,
     "metadata": {},
     "output_type": "execute_result"
    }
   ],
   "source": [
    "# Öğrenci ve not ortalamaları bulunan bir sözlük oluşturalım.\n",
    "myDic2 = {\"Öğenciler\" : [\"Selim\",\"Mustafa\",\"Deniz\",\"Cemre\",\"İrem\",\"Ahmet\"],\n",
    "\"Not ortalamaları\" : [80.3,90,75.5,40,100,87]\n",
    "}\n",
    "myDic3 = pd.DataFrame(myDic2)\n",
    "myDic3"
   ]
  },
  {
   "cell_type": "code",
   "execution_count": 19,
   "id": "d719308d-83c2-45fe-8b65-83695f2d2413",
   "metadata": {},
   "outputs": [
    {
     "data": {
      "text/html": [
       "<div>\n",
       "<style scoped>\n",
       "    .dataframe tbody tr th:only-of-type {\n",
       "        vertical-align: middle;\n",
       "    }\n",
       "\n",
       "    .dataframe tbody tr th {\n",
       "        vertical-align: top;\n",
       "    }\n",
       "\n",
       "    .dataframe thead th {\n",
       "        text-align: right;\n",
       "    }\n",
       "</style>\n",
       "<table border=\"1\" class=\"dataframe\">\n",
       "  <thead>\n",
       "    <tr style=\"text-align: right;\">\n",
       "      <th></th>\n",
       "      <th>Öğenciler</th>\n",
       "      <th>Not ortalamaları</th>\n",
       "    </tr>\n",
       "  </thead>\n",
       "  <tbody>\n",
       "    <tr>\n",
       "      <th>0</th>\n",
       "      <td>Selim</td>\n",
       "      <td>80.3</td>\n",
       "    </tr>\n",
       "    <tr>\n",
       "      <th>1</th>\n",
       "      <td>Mustafa</td>\n",
       "      <td>90.0</td>\n",
       "    </tr>\n",
       "    <tr>\n",
       "      <th>2</th>\n",
       "      <td>Deniz</td>\n",
       "      <td>75.5</td>\n",
       "    </tr>\n",
       "    <tr>\n",
       "      <th>3</th>\n",
       "      <td>Cemre</td>\n",
       "      <td>40.0</td>\n",
       "    </tr>\n",
       "    <tr>\n",
       "      <th>4</th>\n",
       "      <td>İrem</td>\n",
       "      <td>100.0</td>\n",
       "    </tr>\n",
       "  </tbody>\n",
       "</table>\n",
       "</div>"
      ],
      "text/plain": [
       "  Öğenciler  Not ortalamaları\n",
       "0     Selim              80.3\n",
       "1   Mustafa              90.0\n",
       "2     Deniz              75.5\n",
       "3     Cemre              40.0\n",
       "4      İrem             100.0"
      ]
     },
     "execution_count": 19,
     "metadata": {},
     "output_type": "execute_result"
    }
   ],
   "source": [
    "# Verinin ilk 5 satırını bulmak için. Pythonda sayma sayımız sıfırdan başlar.\n",
    "myDic3.head()"
   ]
  },
  {
   "cell_type": "code",
   "execution_count": 20,
   "id": "b5233d8b-3409-4def-9458-c9f38b5509e6",
   "metadata": {},
   "outputs": [
    {
     "data": {
      "text/html": [
       "<div>\n",
       "<style scoped>\n",
       "    .dataframe tbody tr th:only-of-type {\n",
       "        vertical-align: middle;\n",
       "    }\n",
       "\n",
       "    .dataframe tbody tr th {\n",
       "        vertical-align: top;\n",
       "    }\n",
       "\n",
       "    .dataframe thead th {\n",
       "        text-align: right;\n",
       "    }\n",
       "</style>\n",
       "<table border=\"1\" class=\"dataframe\">\n",
       "  <thead>\n",
       "    <tr style=\"text-align: right;\">\n",
       "      <th></th>\n",
       "      <th>Öğenciler</th>\n",
       "      <th>Not ortalamaları</th>\n",
       "    </tr>\n",
       "  </thead>\n",
       "  <tbody>\n",
       "    <tr>\n",
       "      <th>1</th>\n",
       "      <td>Mustafa</td>\n",
       "      <td>90.0</td>\n",
       "    </tr>\n",
       "    <tr>\n",
       "      <th>2</th>\n",
       "      <td>Deniz</td>\n",
       "      <td>75.5</td>\n",
       "    </tr>\n",
       "    <tr>\n",
       "      <th>3</th>\n",
       "      <td>Cemre</td>\n",
       "      <td>40.0</td>\n",
       "    </tr>\n",
       "    <tr>\n",
       "      <th>4</th>\n",
       "      <td>İrem</td>\n",
       "      <td>100.0</td>\n",
       "    </tr>\n",
       "    <tr>\n",
       "      <th>5</th>\n",
       "      <td>Ahmet</td>\n",
       "      <td>87.0</td>\n",
       "    </tr>\n",
       "  </tbody>\n",
       "</table>\n",
       "</div>"
      ],
      "text/plain": [
       "  Öğenciler  Not ortalamaları\n",
       "1   Mustafa              90.0\n",
       "2     Deniz              75.5\n",
       "3     Cemre              40.0\n",
       "4      İrem             100.0\n",
       "5     Ahmet              87.0"
      ]
     },
     "execution_count": 20,
     "metadata": {},
     "output_type": "execute_result"
    }
   ],
   "source": [
    "# Son 5 satır için.\n",
    "myDic3.tail()"
   ]
  },
  {
   "cell_type": "markdown",
   "id": "03b436fc-4703-42b8-a770-b5b5bc4d7ac0",
   "metadata": {},
   "source": [
    "### **Pandas Temel Operasyonlar**"
   ]
  },
  {
   "cell_type": "code",
   "execution_count": 21,
   "id": "b62189e1-aaad-4768-847c-6875c8597c45",
   "metadata": {},
   "outputs": [
    {
     "data": {
      "text/html": [
       "<div>\n",
       "<style scoped>\n",
       "    .dataframe tbody tr th:only-of-type {\n",
       "        vertical-align: middle;\n",
       "    }\n",
       "\n",
       "    .dataframe tbody tr th {\n",
       "        vertical-align: top;\n",
       "    }\n",
       "\n",
       "    .dataframe thead th {\n",
       "        text-align: right;\n",
       "    }\n",
       "</style>\n",
       "<table border=\"1\" class=\"dataframe\">\n",
       "  <thead>\n",
       "    <tr style=\"text-align: right;\">\n",
       "      <th></th>\n",
       "      <th>İsim</th>\n",
       "      <th>Yaş</th>\n",
       "      <th>Kimlik no</th>\n",
       "    </tr>\n",
       "  </thead>\n",
       "  <tbody>\n",
       "    <tr>\n",
       "      <th>0</th>\n",
       "      <td>Melik</td>\n",
       "      <td>20</td>\n",
       "      <td>10234758974</td>\n",
       "    </tr>\n",
       "    <tr>\n",
       "      <th>1</th>\n",
       "      <td>Can</td>\n",
       "      <td>18</td>\n",
       "      <td>23475894587</td>\n",
       "    </tr>\n",
       "    <tr>\n",
       "      <th>2</th>\n",
       "      <td>Şeyma</td>\n",
       "      <td>16</td>\n",
       "      <td>24785912467</td>\n",
       "    </tr>\n",
       "    <tr>\n",
       "      <th>3</th>\n",
       "      <td>Sinem</td>\n",
       "      <td>50</td>\n",
       "      <td>12478954310</td>\n",
       "    </tr>\n",
       "    <tr>\n",
       "      <th>4</th>\n",
       "      <td>Halit</td>\n",
       "      <td>45</td>\n",
       "      <td>10020147587</td>\n",
       "    </tr>\n",
       "    <tr>\n",
       "      <th>5</th>\n",
       "      <td>Hilal</td>\n",
       "      <td>25</td>\n",
       "      <td>12001425787</td>\n",
       "    </tr>\n",
       "  </tbody>\n",
       "</table>\n",
       "</div>"
      ],
      "text/plain": [
       "    İsim  Yaş    Kimlik no\n",
       "0  Melik   20  10234758974\n",
       "1    Can   18  23475894587\n",
       "2  Şeyma   16  24785912467\n",
       "3  Sinem   50  12478954310\n",
       "4  Halit   45  10020147587\n",
       "5  Hilal   25  12001425787"
      ]
     },
     "execution_count": 21,
     "metadata": {},
     "output_type": "execute_result"
    }
   ],
   "source": [
    "# Pandas kütüphanesini çağıralım ve içe aktaralım.\n",
    "# Numpy kütüphanesini çağıralım ve içe aktaralım.\n",
    "import pandas as pd\n",
    "import numpy as np\n",
    "myDic4 = {\"İsim\" : [\"Melik\",\"Can\",\"Şeyma\",\"Sinem\",\"Halit\",\"Hilal\"],\n",
    "\"Yaş\" : [20,18,16,50,45,25],\n",
    "\"Kimlik no\" : [10234758974,23475894587,24785912467,12478954310,10020147587,12001425787]\n",
    "}\n",
    "data = pd.DataFrame(myDic4)\n",
    "data"
   ]
  },
  {
   "cell_type": "code",
   "execution_count": 22,
   "id": "5b58be00-4509-43a1-ac5a-e22345b5987c",
   "metadata": {},
   "outputs": [
    {
     "data": {
      "text/plain": [
       "Index(['İsim', 'Yaş', 'Kimlik no'], dtype='object')"
      ]
     },
     "execution_count": 22,
     "metadata": {},
     "output_type": "execute_result"
    }
   ],
   "source": [
    "# Veri sütunu için. Sütunun isim, yaş ve kimlik numarasından oluştuğunu bize gösterir.\n",
    "data.columns"
   ]
  },
  {
   "cell_type": "code",
   "execution_count": 23,
   "id": "8a7216d0-ee31-4b17-bdd5-716a00c64e16",
   "metadata": {},
   "outputs": [
    {
     "name": "stdout",
     "output_type": "stream",
     "text": [
      "<class 'pandas.core.frame.DataFrame'>\n",
      "RangeIndex: 6 entries, 0 to 5\n",
      "Data columns (total 3 columns):\n",
      " #   Column     Non-Null Count  Dtype \n",
      "---  ------     --------------  ----- \n",
      " 0   İsim       6 non-null      object\n",
      " 1   Yaş        6 non-null      int64 \n",
      " 2   Kimlik no  6 non-null      int64 \n",
      "dtypes: int64(2), object(1)\n",
      "memory usage: 272.0+ bytes\n"
     ]
    }
   ],
   "source": [
    "# İnformation (Bilgi) kelimesinin kısaltması olan İnfo methodu.\n",
    "# Veri içerisinde kaç adet örnek yani satır, kaç adet nitelik yani sütun olduğunu, her bir sütunun veri tipini\n",
    "data.info()"
   ]
  },
  {
   "cell_type": "code",
   "execution_count": 24,
   "id": "65c5801f-c81e-46b2-bd4c-7d44fae7ff38",
   "metadata": {},
   "outputs": [
    {
     "data": {
      "text/html": [
       "<div>\n",
       "<style scoped>\n",
       "    .dataframe tbody tr th:only-of-type {\n",
       "        vertical-align: middle;\n",
       "    }\n",
       "\n",
       "    .dataframe tbody tr th {\n",
       "        vertical-align: top;\n",
       "    }\n",
       "\n",
       "    .dataframe thead th {\n",
       "        text-align: right;\n",
       "    }\n",
       "</style>\n",
       "<table border=\"1\" class=\"dataframe\">\n",
       "  <thead>\n",
       "    <tr style=\"text-align: right;\">\n",
       "      <th></th>\n",
       "      <th>Yaş</th>\n",
       "      <th>Kimlik no</th>\n",
       "    </tr>\n",
       "  </thead>\n",
       "  <tbody>\n",
       "    <tr>\n",
       "      <th>count</th>\n",
       "      <td>6.00000</td>\n",
       "      <td>6.000000e+00</td>\n",
       "    </tr>\n",
       "    <tr>\n",
       "      <th>mean</th>\n",
       "      <td>29.00000</td>\n",
       "      <td>1.549952e+10</td>\n",
       "    </tr>\n",
       "    <tr>\n",
       "      <th>std</th>\n",
       "      <td>14.72413</td>\n",
       "      <td>6.766999e+09</td>\n",
       "    </tr>\n",
       "    <tr>\n",
       "      <th>min</th>\n",
       "      <td>16.00000</td>\n",
       "      <td>1.002015e+10</td>\n",
       "    </tr>\n",
       "    <tr>\n",
       "      <th>25%</th>\n",
       "      <td>18.50000</td>\n",
       "      <td>1.067643e+10</td>\n",
       "    </tr>\n",
       "    <tr>\n",
       "      <th>50%</th>\n",
       "      <td>22.50000</td>\n",
       "      <td>1.224019e+10</td>\n",
       "    </tr>\n",
       "    <tr>\n",
       "      <th>75%</th>\n",
       "      <td>40.00000</td>\n",
       "      <td>2.072666e+10</td>\n",
       "    </tr>\n",
       "    <tr>\n",
       "      <th>max</th>\n",
       "      <td>50.00000</td>\n",
       "      <td>2.478591e+10</td>\n",
       "    </tr>\n",
       "  </tbody>\n",
       "</table>\n",
       "</div>"
      ],
      "text/plain": [
       "            Yaş     Kimlik no\n",
       "count   6.00000  6.000000e+00\n",
       "mean   29.00000  1.549952e+10\n",
       "std    14.72413  6.766999e+09\n",
       "min    16.00000  1.002015e+10\n",
       "25%    18.50000  1.067643e+10\n",
       "50%    22.50000  1.224019e+10\n",
       "75%    40.00000  2.072666e+10\n",
       "max    50.00000  2.478591e+10"
      ]
     },
     "execution_count": 24,
     "metadata": {},
     "output_type": "execute_result"
    }
   ],
   "source": [
    "# Veri içerisinde bulunan sayısal sütunlar ile ilgili istatistiksel özet çıkarır.\n",
    "data.describe() # Tarif et methodu."
   ]
  },
  {
   "cell_type": "markdown",
   "id": "c2d3962d-0b61-41f8-b733-7444b2ad479a",
   "metadata": {},
   "source": [
    "* **Count =** Sayısı\n",
    "* **Mean =** Ortalama\n",
    "* **Std =** Standart sapma\n",
    "* **Min =** En küçük değer\n",
    "* **Max =** En büyük değer\n",
    "* **25% =** İlk yüzde 25'lik dilim nerede bitiyor\n",
    "* **50% =** İlk yüzde 50'lik dilim nerede bitiyor\n",
    "* **75% =** İlk yüzde 75'lik dilim nerede bitiyor"
   ]
  }
 ],
 "metadata": {
  "kernelspec": {
   "display_name": "Python 3 (ipykernel)",
   "language": "python",
   "name": "python3"
  },
  "language_info": {
   "codemirror_mode": {
    "name": "ipython",
    "version": 3
   },
   "file_extension": ".py",
   "mimetype": "text/x-python",
   "name": "python",
   "nbconvert_exporter": "python",
   "pygments_lexer": "ipython3",
   "version": "3.9.6"
  }
 },
 "nbformat": 4,
 "nbformat_minor": 5
}
